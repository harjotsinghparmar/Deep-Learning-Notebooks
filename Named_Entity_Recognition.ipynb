{
  "nbformat": 4,
  "nbformat_minor": 0,
  "metadata": {
    "colab": {
      "name": "Named Entity Recognition.ipynb",
      "version": "0.3.2",
      "provenance": [],
      "include_colab_link": true
    },
    "kernelspec": {
      "name": "python3",
      "display_name": "Python 3"
    },
    "accelerator": "GPU"
  },
  "cells": [
    {
      "cell_type": "markdown",
      "metadata": {
        "id": "view-in-github",
        "colab_type": "text"
      },
      "source": [
        "<a href=\"https://colab.research.google.com/github/harjotsinghparmar/Google-Colab-Deep-Learning/blob/master/Named_Entity_Recognition.ipynb\" target=\"_parent\"><img src=\"https://colab.research.google.com/assets/colab-badge.svg\" alt=\"Open In Colab\"/></a>"
      ]
    },
    {
      "metadata": {
        "id": "Mz8-aXgvgX6R",
        "colab_type": "text"
      },
      "cell_type": "markdown",
      "source": [
        "# Named Entity Recognition \n",
        "\n",
        "Named entity recognition is the method in machine learning, specifically in natural language processing that used to tag words in a given sentence with the respective categories such as person name, identity, medical codes etc. \n",
        "\n",
        "I have been meaning to try it out myself using the bidirectional LSTM conditional random fields\n"
      ]
    },
    {
      "metadata": {
        "id": "bi4iy5Ftfu8j",
        "colab_type": "code",
        "outputId": "9aa7518c-7c34-4c7d-fa64-b6dc907f4171",
        "colab": {
          "base_uri": "https://localhost:8080/",
          "height": 63
        }
      },
      "cell_type": "code",
      "source": [
        "# Install extra-dependencies\n",
        "! pip -q install git+https://www.github.com/keras-team/keras-contrib.git sklearn-crfsuite "
      ],
      "execution_count": 0,
      "outputs": [
        {
          "output_type": "stream",
          "text": [
            "\u001b[31mOperation cancelled by user\u001b[0m\n"
          ],
          "name": "stdout"
        }
      ]
    },
    {
      "metadata": {
        "id": "4LiW59Pri6Sl",
        "colab_type": "code",
        "outputId": "beaf98ee-9883-4de6-a80e-a80ef86f1572",
        "colab": {
          "base_uri": "https://localhost:8080/",
          "height": 51
        }
      },
      "cell_type": "code",
      "source": [
        "%load_ext autoreload\n",
        "%autoreload 2"
      ],
      "execution_count": 0,
      "outputs": [
        {
          "output_type": "stream",
          "text": [
            "The autoreload extension is already loaded. To reload it, use:\n",
            "  %reload_ext autoreload\n"
          ],
          "name": "stdout"
        }
      ]
    },
    {
      "metadata": {
        "id": "xy1Ow6jthZzc",
        "colab_type": "code",
        "outputId": "6684288f-ec70-4350-848f-109a04f02981",
        "colab": {
          "base_uri": "https://localhost:8080/",
          "height": 34
        }
      },
      "cell_type": "code",
      "source": [
        "\n",
        "#Import all the modules\n",
        "# for machine learning\n",
        "import tensorflow as tf\n",
        "import keras\n",
        "\n",
        "#for data wrangling\n",
        "import pandas as pd\n",
        "import numpy as np\n",
        "import matplotlib.pyplot as plt"
      ],
      "execution_count": 0,
      "outputs": [
        {
          "output_type": "stream",
          "text": [
            "Using TensorFlow backend.\n"
          ],
          "name": "stderr"
        }
      ]
    },
    {
      "metadata": {
        "id": "xQy5Bag5hqVq",
        "colab_type": "code",
        "colab": {}
      },
      "cell_type": "code",
      "source": [
        "##import data \n",
        "! wget -cp http://groups.csail.mit.edu/sls/downloads/movie/engtrain.bio\n",
        "data = pd.read_csv('/content/groups.csail.mit.edu/sls/downloads/movie/engtrain.bio',delimiter=\"\\t\", names = ['Tag','Word'],skip_blank_lines=False)\n",
        "\n",
        "#tag each sentence\n",
        "data['sentence_no'] = 0\n",
        "import numpy as np\n",
        "ds = np.asarray(data)\n",
        "#Run a loop through the numpy array and assign sentence number\n",
        "i = 0 \n",
        "for row in ds:\n",
        "  if type(row[0])==float:\n",
        "    i=i+1\n",
        "    row[2]=None\n",
        "  else:\n",
        "    row[2]=i"
      ],
      "execution_count": 0,
      "outputs": []
    },
    {
      "metadata": {
        "id": "Byw5wIytiwgq",
        "colab_type": "code",
        "colab": {}
      },
      "cell_type": "code",
      "source": [
        "# Convert back to dataframe and add column names \n",
        "\n",
        "data = pd.DataFrame(ds)\n",
        "data.columns = ['Tag',\"Word\",\"Sentence #\"]\n",
        "\n"
      ],
      "execution_count": 0,
      "outputs": []
    },
    {
      "metadata": {
        "id": "4jLnDhbEj5ep",
        "colab_type": "code",
        "outputId": "aed9ece1-d4b4-444f-84c0-52b43c062e58",
        "colab": {
          "base_uri": "https://localhost:8080/",
          "height": 784
        }
      },
      "cell_type": "code",
      "source": [
        "## Generate dataset summary\n",
        "\n",
        "\n",
        "print(\"Number of sentences: \", len(data.groupby(['Sentence #'])))\n",
        "\n",
        "words = list(set(data[\"Word\"].values))\n",
        "n_words = len(words)\n",
        "print(\"Number of words in the dataset: \", n_words)\n",
        "\n",
        "tags = list(set(data[\"Tag\"].values))\n",
        "print(\"Tags:\", tags)\n",
        "n_tags = len(tags)\n",
        "print(\"Number of Labels: \", n_tags)\n",
        "\n",
        "print(\"What the dataset looks like:\")\n",
        "# Show the first 10 rows\n",
        "data.head(n=20) "
      ],
      "execution_count": 0,
      "outputs": [
        {
          "output_type": "stream",
          "text": [
            "Number of sentences:  9775\n",
            "Number of words in the dataset:  6711\n",
            "Tags: [nan, 'I-YEAR', 'B-PLOT', 'I-REVIEW', 'B-TRAILER', 'B-GENRE', 'B-SONG', 'I-RATINGS_AVERAGE', 'B-DIRECTOR', 'I-DIRECTOR', 'B-REVIEW', 'I-SONG', 'I-TITLE', 'O', 'B-YEAR', 'B-RATINGS_AVERAGE', 'I-RATING', 'B-RATING', 'I-PLOT', 'I-CHARACTER', 'I-GENRE', 'B-TITLE', 'B-CHARACTER', 'B-ACTOR', 'I-TRAILER', 'I-ACTOR']\n",
            "Number of Labels:  26\n",
            "What the dataset looks like:\n"
          ],
          "name": "stdout"
        },
        {
          "output_type": "execute_result",
          "data": {
            "text/html": [
              "<div>\n",
              "<style scoped>\n",
              "    .dataframe tbody tr th:only-of-type {\n",
              "        vertical-align: middle;\n",
              "    }\n",
              "\n",
              "    .dataframe tbody tr th {\n",
              "        vertical-align: top;\n",
              "    }\n",
              "\n",
              "    .dataframe thead th {\n",
              "        text-align: right;\n",
              "    }\n",
              "</style>\n",
              "<table border=\"1\" class=\"dataframe\">\n",
              "  <thead>\n",
              "    <tr style=\"text-align: right;\">\n",
              "      <th></th>\n",
              "      <th>Tag</th>\n",
              "      <th>Word</th>\n",
              "      <th>Sentence #</th>\n",
              "    </tr>\n",
              "  </thead>\n",
              "  <tbody>\n",
              "    <tr>\n",
              "      <th>0</th>\n",
              "      <td>O</td>\n",
              "      <td>what</td>\n",
              "      <td>0</td>\n",
              "    </tr>\n",
              "    <tr>\n",
              "      <th>1</th>\n",
              "      <td>O</td>\n",
              "      <td>movies</td>\n",
              "      <td>0</td>\n",
              "    </tr>\n",
              "    <tr>\n",
              "      <th>2</th>\n",
              "      <td>O</td>\n",
              "      <td>star</td>\n",
              "      <td>0</td>\n",
              "    </tr>\n",
              "    <tr>\n",
              "      <th>3</th>\n",
              "      <td>B-ACTOR</td>\n",
              "      <td>bruce</td>\n",
              "      <td>0</td>\n",
              "    </tr>\n",
              "    <tr>\n",
              "      <th>4</th>\n",
              "      <td>I-ACTOR</td>\n",
              "      <td>willis</td>\n",
              "      <td>0</td>\n",
              "    </tr>\n",
              "    <tr>\n",
              "      <th>5</th>\n",
              "      <td>NaN</td>\n",
              "      <td>NaN</td>\n",
              "      <td>None</td>\n",
              "    </tr>\n",
              "    <tr>\n",
              "      <th>6</th>\n",
              "      <td>O</td>\n",
              "      <td>show</td>\n",
              "      <td>1</td>\n",
              "    </tr>\n",
              "    <tr>\n",
              "      <th>7</th>\n",
              "      <td>O</td>\n",
              "      <td>me</td>\n",
              "      <td>1</td>\n",
              "    </tr>\n",
              "    <tr>\n",
              "      <th>8</th>\n",
              "      <td>O</td>\n",
              "      <td>films</td>\n",
              "      <td>1</td>\n",
              "    </tr>\n",
              "    <tr>\n",
              "      <th>9</th>\n",
              "      <td>O</td>\n",
              "      <td>with</td>\n",
              "      <td>1</td>\n",
              "    </tr>\n",
              "    <tr>\n",
              "      <th>10</th>\n",
              "      <td>B-ACTOR</td>\n",
              "      <td>drew</td>\n",
              "      <td>1</td>\n",
              "    </tr>\n",
              "    <tr>\n",
              "      <th>11</th>\n",
              "      <td>I-ACTOR</td>\n",
              "      <td>barrymore</td>\n",
              "      <td>1</td>\n",
              "    </tr>\n",
              "    <tr>\n",
              "      <th>12</th>\n",
              "      <td>O</td>\n",
              "      <td>from</td>\n",
              "      <td>1</td>\n",
              "    </tr>\n",
              "    <tr>\n",
              "      <th>13</th>\n",
              "      <td>O</td>\n",
              "      <td>the</td>\n",
              "      <td>1</td>\n",
              "    </tr>\n",
              "    <tr>\n",
              "      <th>14</th>\n",
              "      <td>B-YEAR</td>\n",
              "      <td>1980s</td>\n",
              "      <td>1</td>\n",
              "    </tr>\n",
              "    <tr>\n",
              "      <th>15</th>\n",
              "      <td>NaN</td>\n",
              "      <td>NaN</td>\n",
              "      <td>None</td>\n",
              "    </tr>\n",
              "    <tr>\n",
              "      <th>16</th>\n",
              "      <td>O</td>\n",
              "      <td>what</td>\n",
              "      <td>2</td>\n",
              "    </tr>\n",
              "    <tr>\n",
              "      <th>17</th>\n",
              "      <td>O</td>\n",
              "      <td>movies</td>\n",
              "      <td>2</td>\n",
              "    </tr>\n",
              "    <tr>\n",
              "      <th>18</th>\n",
              "      <td>O</td>\n",
              "      <td>starred</td>\n",
              "      <td>2</td>\n",
              "    </tr>\n",
              "    <tr>\n",
              "      <th>19</th>\n",
              "      <td>O</td>\n",
              "      <td>both</td>\n",
              "      <td>2</td>\n",
              "    </tr>\n",
              "  </tbody>\n",
              "</table>\n",
              "</div>"
            ],
            "text/plain": [
              "        Tag       Word Sentence #\n",
              "0         O       what          0\n",
              "1         O     movies          0\n",
              "2         O       star          0\n",
              "3   B-ACTOR      bruce          0\n",
              "4   I-ACTOR     willis          0\n",
              "5       NaN        NaN       None\n",
              "6         O       show          1\n",
              "7         O         me          1\n",
              "8         O      films          1\n",
              "9         O       with          1\n",
              "10  B-ACTOR       drew          1\n",
              "11  I-ACTOR  barrymore          1\n",
              "12        O       from          1\n",
              "13        O        the          1\n",
              "14   B-YEAR      1980s          1\n",
              "15      NaN        NaN       None\n",
              "16        O       what          2\n",
              "17        O     movies          2\n",
              "18        O    starred          2\n",
              "19        O       both          2"
            ]
          },
          "metadata": {
            "tags": []
          },
          "execution_count": 35
        }
      ]
    },
    {
      "metadata": {
        "id": "f8GQYcPtkEfT",
        "colab_type": "code",
        "colab": {}
      },
      "cell_type": "code",
      "source": [
        "## Define aggregate lambda function \n",
        "agg_func = lambda s: [(w, t) for w, t in zip(s[\"Word\"].values.tolist(),\n",
        "                                                           s[\"Tag\"].values.tolist())]"
      ],
      "execution_count": 0,
      "outputs": []
    },
    {
      "metadata": {
        "id": "CrL3BHG-kPFe",
        "colab_type": "code",
        "colab": {}
      },
      "cell_type": "code",
      "source": [
        "sentences = data.groupby('Sentence #').apply(agg_func)"
      ],
      "execution_count": 0,
      "outputs": []
    },
    {
      "metadata": {
        "id": "d6vsBvIekQt9",
        "colab_type": "code",
        "outputId": "74bcdc41-dc81-46d4-b9eb-a6ca6495ebe2",
        "colab": {
          "base_uri": "https://localhost:8080/",
          "height": 102
        }
      },
      "cell_type": "code",
      "source": [
        ""
      ],
      "execution_count": 0,
      "outputs": [
        {
          "output_type": "execute_result",
          "data": {
            "text/plain": [
              "[('what', 'O'),\n",
              " ('movies', 'O'),\n",
              " ('star', 'O'),\n",
              " ('bruce', 'B-ACTOR'),\n",
              " ('willis', 'I-ACTOR')]"
            ]
          },
          "metadata": {
            "tags": []
          },
          "execution_count": 38
        }
      ]
    },
    {
      "metadata": {
        "id": "RcSmaa6LkSk1",
        "colab_type": "code",
        "outputId": "53303440-9bfe-4385-f6ec-4cff149515cf",
        "colab": {
          "base_uri": "https://localhost:8080/",
          "height": 376
        }
      },
      "cell_type": "code",
      "source": [
        "# Get all the sentences\n",
        "\n",
        "\n",
        "# Plot sentence by lenght\n",
        "plt.hist([len(s) for s in sentences], bins=20)\n",
        "plt.title('Token per sentence')\n",
        "plt.xlabel('Len (number of token)')\n",
        "plt.ylabel('# samples')\n",
        "plt.show()"
      ],
      "execution_count": 0,
      "outputs": [
        {
          "output_type": "display_data",
          "data": {
            "image/png": "[encoded data removed]",
            "text/plain": [
              "<Figure size 576x396 with 1 Axes>"
            ]
          },
          "metadata": {
            "tags": []
          }
        }
      ]
    },
    {
      "metadata": {
        "id": "2dK4Bz-Ck2kP",
        "colab_type": "code",
        "outputId": "c8db2fe1-d7d9-4ca9-e083-75de7c96e5d8",
        "colab": {
          "base_uri": "https://localhost:8080/",
          "height": 331
        }
      },
      "cell_type": "code",
      "source": [
        "BATCH_SIZE = 512  # Number of examples used in each iteration\n",
        "EPOCHS = 5  # Number of passes through entire dataset\n",
        "MAX_LEN = 75  # Max length of review (in words)\n",
        "EMBEDDING = 40  # Dimension of word embedding vector\n",
        "\n",
        "\n",
        "\n",
        "\n",
        "\n",
        "# Vocabulary Key:word -> Value:token_index\n",
        "# The first 2 entries are reserved for PAD and UNK\n",
        "word2idx = {w: i + 2 for i, w in enumerate(words)}\n",
        "word2idx[\"UNK\"] = 1 # Unknown words\n",
        "word2idx[\"PAD\"] = 0 # Padding\n",
        "\n",
        "# Vocabulary Key:token_index -> Value:word\n",
        "idx2word = {i: w for w, i in word2idx.items()}\n",
        "\n",
        "# Vocabulary Key:Label/Tag -> Value:tag_index\n",
        "# The first entry is reserved for PAD\n",
        "tag2idx = {t: i+1 for i, t in enumerate(tags)}\n",
        "tag2idx[\"PAD\"] = 0\n",
        "\n",
        "# Vocabulary Key:tag_index -> Value:Label/Tag\n",
        "idx2tag = {i: w for w, i in tag2idx.items()}\n",
        "\n",
        "print(\"The word Obama is identified by the index: {}\".format(word2idx[\"bruce\"]))\n",
        "print(\"The labels B-geo(which defines Geopraphical Enitities) is identified by the index: {}\".format(tag2idx[\"I-ACTOR\"]))\n",
        "\n",
        "\n",
        "from keras.preprocessing.sequence import pad_sequences\n",
        "# Convert each sentence from list of Token to list of word_index\n",
        "X = [[word2idx[w[0]] for w in s] for s in sentences]\n",
        "# Padding each sentence to have the same lenght\n",
        "X = pad_sequences(maxlen=MAX_LEN, sequences=X, padding=\"post\", value=word2idx[\"PAD\"])\n",
        "\n",
        "# Convert Tag/Label to tag_index\n",
        "y = [[tag2idx[w[1]] for w in s] for s in sentences]\n",
        "# Padding each sentence to have the same lenght\n",
        "y = pad_sequences(maxlen=MAX_LEN, sequences=y, padding=\"post\", value=tag2idx[\"PAD\"])\n",
        "\n",
        "from keras.utils import to_categorical\n",
        "# One-Hot encode\n",
        "y = [to_categorical(i, num_classes=n_tags+1) for i in y]  # n_tags+1(PAD)\n",
        "\n",
        "from sklearn.model_selection import train_test_split\n",
        "X_tr, X_te, y_tr, y_te = train_test_split(X, y, test_size=0.1)\n",
        "X_tr.shape, X_te.shape, np.array(y_tr).shape, np.array(y_te).shape\n",
        "\n",
        "print('Raw Sample: ', ' '.join([w[0] for w in sentences[0]]))\n",
        "print('Raw Label: ', ' '.join([w[1] for w in sentences[0]]))\n",
        "print('After processing, sample:', X[0])\n",
        "print('After processing, labels:', y[0])"
      ],
      "execution_count": 0,
      "outputs": [
        {
          "output_type": "stream",
          "text": [
            "The word Obama is identified by the index: 5294\n",
            "The labels B-geo(which defines Geopraphical Enitities) is identified by the index: 26\n",
            "Raw Sample:  what movies star bruce willis\n",
            "Raw Label:  O O O B-ACTOR I-ACTOR\n",
            "After processing, sample: [6055 6639 1302 5294   19    0    0    0    0    0    0    0    0    0\n",
            "    0    0    0    0    0    0    0    0    0    0    0    0    0    0\n",
            "    0    0    0    0    0    0    0    0    0    0    0    0    0    0\n",
            "    0    0    0    0    0    0    0    0    0    0    0    0    0    0\n",
            "    0    0    0    0    0    0    0    0    0    0    0    0    0    0\n",
            "    0    0    0    0    0]\n",
            "After processing, labels: [[0. 0. 0. ... 0. 0. 0.]\n",
            " [0. 0. 0. ... 0. 0. 0.]\n",
            " [0. 0. 0. ... 0. 0. 0.]\n",
            " ...\n",
            " [1. 0. 0. ... 0. 0. 0.]\n",
            " [1. 0. 0. ... 0. 0. 0.]\n",
            " [1. 0. 0. ... 0. 0. 0.]]\n"
          ],
          "name": "stdout"
        }
      ]
    },
    {
      "metadata": {
        "id": "tUiRS8F3k6qq",
        "colab_type": "code",
        "outputId": "07869356-5cf1-4fbe-d531-13004334a66f",
        "colab": {
          "base_uri": "https://localhost:8080/",
          "height": 501
        }
      },
      "cell_type": "code",
      "source": [
        "## Define the keras model \n",
        "\n",
        "from keras.models import Model, Input\n",
        "from keras.layers import LSTM, Embedding, Dense, TimeDistributed, Dropout, Bidirectional\n",
        "from keras_contrib.layers import CRF\n",
        "\n",
        "# Model definition\n",
        "input = Input(shape=(MAX_LEN,))\n",
        "model = Embedding(input_dim=n_words+2, output_dim=EMBEDDING, # n_words + 2 (PAD & UNK)\n",
        "                  input_length=MAX_LEN, mask_zero=True)(input)  # default: 20-dim embedding\n",
        "model = Bidirectional(LSTM(units=50, return_sequences=True,\n",
        "                           recurrent_dropout=0.1))(model)  # variational biLSTM\n",
        "model = TimeDistributed(Dense(50, activation=\"relu\"))(model)  # a dense layer as suggested by neuralNer\n",
        "crf = CRF(n_tags+1)  # CRF layer, n_tags+1(PAD)\n",
        "out = crf(model)  # output\n",
        "\n",
        "model = Model(input, out)\n",
        "model.compile(optimizer=\"rmsprop\", loss=crf.loss_function, metrics=[crf.accuracy])\n",
        "\n",
        "model.summary()"
      ],
      "execution_count": 0,
      "outputs": [
        {
          "output_type": "stream",
          "text": [
            "WARNING:tensorflow:From /usr/local/lib/python3.6/dist-packages/tensorflow/python/framework/op_def_library.py:263: colocate_with (from tensorflow.python.framework.ops) is deprecated and will be removed in a future version.\n",
            "Instructions for updating:\n",
            "Colocations handled automatically by placer.\n",
            "WARNING:tensorflow:From /usr/local/lib/python3.6/dist-packages/keras/backend/tensorflow_backend.py:3445: calling dropout (from tensorflow.python.ops.nn_ops) with keep_prob is deprecated and will be removed in a future version.\n",
            "Instructions for updating:\n",
            "Please use `rate` instead of `keep_prob`. Rate should be set to `rate = 1 - keep_prob`.\n"
          ],
          "name": "stdout"
        },
        {
          "output_type": "stream",
          "text": [
            "/usr/local/lib/python3.6/dist-packages/keras_contrib/layers/crf.py:346: UserWarning: CRF.loss_function is deprecated and it might be removed in the future. Please use losses.crf_loss instead.\n",
            "  warnings.warn('CRF.loss_function is deprecated '\n",
            "/usr/local/lib/python3.6/dist-packages/keras_contrib/layers/crf.py:353: UserWarning: CRF.accuracy is deprecated and it might be removed in the future. Please use metrics.crf_accuracy\n",
            "  warnings.warn('CRF.accuracy is deprecated and it '\n"
          ],
          "name": "stderr"
        },
        {
          "output_type": "stream",
          "text": [
            "_________________________________________________________________\n",
            "Layer (type)                 Output Shape              Param #   \n",
            "=================================================================\n",
            "input_1 (InputLayer)         (None, 75)                0         \n",
            "_________________________________________________________________\n",
            "embedding_1 (Embedding)      (None, 75, 40)            268520    \n",
            "_________________________________________________________________\n",
            "bidirectional_1 (Bidirection (None, 75, 100)           36400     \n",
            "_________________________________________________________________\n",
            "time_distributed_1 (TimeDist (None, 75, 50)            5050      \n",
            "_________________________________________________________________\n",
            "crf_1 (CRF)                  (None, 75, 27)            2160      \n",
            "=================================================================\n",
            "Total params: 312,130\n",
            "Trainable params: 312,130\n",
            "Non-trainable params: 0\n",
            "_________________________________________________________________\n"
          ],
          "name": "stdout"
        }
      ]
    },
    {
      "metadata": {
        "id": "W-fbCB9LlgK2",
        "colab_type": "code",
        "outputId": "74db1820-89ab-4e28-a2d1-c0aeb7f5e8bc",
        "colab": {
          "base_uri": "https://localhost:8080/",
          "height": 1125
        }
      },
      "cell_type": "code",
      "source": [
        "history = model.fit(X_tr, np.array(y_tr), batch_size=BATCH_SIZE, epochs=30,\n",
        "                    validation_split=0.1, verbose=2)"
      ],
      "execution_count": 0,
      "outputs": [
        {
          "output_type": "stream",
          "text": [
            "WARNING:tensorflow:From /usr/local/lib/python3.6/dist-packages/tensorflow/python/ops/math_ops.py:3066: to_int32 (from tensorflow.python.ops.math_ops) is deprecated and will be removed in a future version.\n",
            "Instructions for updating:\n",
            "Use tf.cast instead.\n",
            "Train on 7917 samples, validate on 880 samples\n",
            "Epoch 1/30\n",
            " - 13s - loss: 28.9480 - crf_viterbi_accuracy: 0.3374 - val_loss: 28.8543 - val_crf_viterbi_accuracy: 0.6198\n",
            "Epoch 2/30\n",
            " - 10s - loss: 27.9975 - crf_viterbi_accuracy: 0.6127 - val_loss: 28.5205 - val_crf_viterbi_accuracy: 0.6198\n",
            "Epoch 3/30\n",
            " - 10s - loss: 27.7732 - crf_viterbi_accuracy: 0.6128 - val_loss: 28.3722 - val_crf_viterbi_accuracy: 0.6198\n",
            "Epoch 4/30\n",
            " - 10s - loss: 27.6243 - crf_viterbi_accuracy: 0.6128 - val_loss: 28.2305 - val_crf_viterbi_accuracy: 0.6206\n",
            "Epoch 5/30\n",
            " - 10s - loss: 27.4670 - crf_viterbi_accuracy: 0.6187 - val_loss: 28.0769 - val_crf_viterbi_accuracy: 0.6327\n",
            "Epoch 6/30\n",
            " - 10s - loss: 27.3206 - crf_viterbi_accuracy: 0.6393 - val_loss: 27.9726 - val_crf_viterbi_accuracy: 0.6533\n",
            "Epoch 7/30\n",
            " - 10s - loss: 27.2308 - crf_viterbi_accuracy: 0.6721 - val_loss: 27.9127 - val_crf_viterbi_accuracy: 0.6886\n",
            "Epoch 8/30\n",
            " - 10s - loss: 27.1627 - crf_viterbi_accuracy: 0.7004 - val_loss: 27.8485 - val_crf_viterbi_accuracy: 0.7162\n",
            "Epoch 9/30\n",
            " - 10s - loss: 27.0924 - crf_viterbi_accuracy: 0.7241 - val_loss: 27.7856 - val_crf_viterbi_accuracy: 0.7326\n",
            "Epoch 10/30\n",
            " - 10s - loss: 27.0221 - crf_viterbi_accuracy: 0.7438 - val_loss: 27.7328 - val_crf_viterbi_accuracy: 0.7485\n",
            "Epoch 11/30\n",
            " - 10s - loss: 26.9535 - crf_viterbi_accuracy: 0.7647 - val_loss: 27.6587 - val_crf_viterbi_accuracy: 0.7739\n",
            "Epoch 12/30\n",
            " - 10s - loss: 26.8861 - crf_viterbi_accuracy: 0.7856 - val_loss: 27.5999 - val_crf_viterbi_accuracy: 0.7836\n",
            "Epoch 13/30\n",
            " - 10s - loss: 26.8224 - crf_viterbi_accuracy: 0.8048 - val_loss: 27.5338 - val_crf_viterbi_accuracy: 0.8046\n",
            "Epoch 14/30\n",
            " - 10s - loss: 26.7585 - crf_viterbi_accuracy: 0.8237 - val_loss: 27.4808 - val_crf_viterbi_accuracy: 0.8186\n",
            "Epoch 15/30\n",
            " - 10s - loss: 26.7033 - crf_viterbi_accuracy: 0.8397 - val_loss: 27.4283 - val_crf_viterbi_accuracy: 0.8397\n",
            "Epoch 16/30\n",
            " - 10s - loss: 26.6497 - crf_viterbi_accuracy: 0.8565 - val_loss: 27.3889 - val_crf_viterbi_accuracy: 0.8524\n",
            "Epoch 17/30\n",
            " - 10s - loss: 26.6032 - crf_viterbi_accuracy: 0.8702 - val_loss: 27.3461 - val_crf_viterbi_accuracy: 0.8567\n",
            "Epoch 18/30\n",
            " - 10s - loss: 26.5578 - crf_viterbi_accuracy: 0.8823 - val_loss: 27.3103 - val_crf_viterbi_accuracy: 0.8716\n",
            "Epoch 19/30\n",
            " - 10s - loss: 26.5215 - crf_viterbi_accuracy: 0.8898 - val_loss: 27.2769 - val_crf_viterbi_accuracy: 0.8742\n",
            "Epoch 20/30\n",
            " - 10s - loss: 26.4855 - crf_viterbi_accuracy: 0.8987 - val_loss: 27.2518 - val_crf_viterbi_accuracy: 0.8840\n",
            "Epoch 21/30\n",
            " - 10s - loss: 26.4519 - crf_viterbi_accuracy: 0.9062 - val_loss: 27.2265 - val_crf_viterbi_accuracy: 0.8834\n",
            "Epoch 22/30\n",
            " - 10s - loss: 26.4199 - crf_viterbi_accuracy: 0.9130 - val_loss: 27.2061 - val_crf_viterbi_accuracy: 0.8881\n",
            "Epoch 23/30\n",
            " - 10s - loss: 26.3987 - crf_viterbi_accuracy: 0.9157 - val_loss: 27.1980 - val_crf_viterbi_accuracy: 0.8914\n",
            "Epoch 24/30\n",
            " - 10s - loss: 26.3749 - crf_viterbi_accuracy: 0.9210 - val_loss: 27.1839 - val_crf_viterbi_accuracy: 0.8901\n",
            "Epoch 25/30\n",
            " - 10s - loss: 26.3565 - crf_viterbi_accuracy: 0.9240 - val_loss: 27.1688 - val_crf_viterbi_accuracy: 0.8956\n",
            "Epoch 26/30\n",
            " - 10s - loss: 26.3359 - crf_viterbi_accuracy: 0.9281 - val_loss: 27.1582 - val_crf_viterbi_accuracy: 0.8931\n",
            "Epoch 27/30\n",
            " - 10s - loss: 26.3203 - crf_viterbi_accuracy: 0.9312 - val_loss: 27.1470 - val_crf_viterbi_accuracy: 0.8968\n",
            "Epoch 28/30\n",
            " - 10s - loss: 26.3056 - crf_viterbi_accuracy: 0.9343 - val_loss: 27.1518 - val_crf_viterbi_accuracy: 0.8990\n",
            "Epoch 29/30\n",
            " - 10s - loss: 26.2912 - crf_viterbi_accuracy: 0.9376 - val_loss: 27.1361 - val_crf_viterbi_accuracy: 0.9018\n",
            "Epoch 30/30\n",
            " - 10s - loss: 26.2774 - crf_viterbi_accuracy: 0.9404 - val_loss: 27.1359 - val_crf_viterbi_accuracy: 0.9018\n"
          ],
          "name": "stdout"
        }
      ]
    },
    {
      "metadata": {
        "id": "-NfwTAMllxpI",
        "colab_type": "code",
        "outputId": "d4e24fb3-8ff9-4bf6-cccb-09521d08cdbf",
        "colab": {
          "base_uri": "https://localhost:8080/",
          "height": 637
        }
      },
      "cell_type": "code",
      "source": [
        "# Eval\n",
        "pred_cat = model.predict(X_tr)\n",
        "pred = np.argmax(pred_cat, axis=-1)\n",
        "y_te_true = np.argmax(y_tr, -1)\n",
        "\n",
        "from sklearn_crfsuite.metrics import flat_classification_report\n",
        "\n",
        "# Convert the index to tag\n",
        "pred_tag = [[idx2tag[i] for i in row] for row in pred]\n",
        "y_te_true_tag = [[idx2tag[i] for i in row] for row in y_te_true] \n",
        "\n",
        "report = flat_classification_report(y_pred=pred_tag, y_true=y_te_true_tag)\n",
        "print(report)"
      ],
      "execution_count": 0,
      "outputs": [
        {
          "output_type": "stream",
          "text": [
            "/usr/local/lib/python3.6/dist-packages/sklearn/metrics/classification.py:1143: UndefinedMetricWarning: Precision and F-score are ill-defined and being set to 0.0 in labels with no predicted samples.\n",
            "  'precision', 'predicted', average, warn_for)\n"
          ],
          "name": "stderr"
        },
        {
          "output_type": "stream",
          "text": [
            "                   precision    recall  f1-score   support\n",
            "\n",
            "          B-ACTOR       0.96      0.95      0.95      2917\n",
            "      B-CHARACTER       0.61      0.54      0.57       339\n",
            "       B-DIRECTOR       0.94      0.95      0.95      1551\n",
            "          B-GENRE       0.94      0.97      0.95      3911\n",
            "           B-PLOT       0.80      0.76      0.78      1734\n",
            "         B-RATING       0.97      0.97      0.97      1812\n",
            "B-RATINGS_AVERAGE       0.87      0.77      0.82      1696\n",
            "         B-REVIEW       0.00      0.00      0.00       200\n",
            "           B-SONG       0.91      0.14      0.25       217\n",
            "          B-TITLE       0.88      0.88      0.88      2119\n",
            "        B-TRAILER       0.84      0.69      0.76       100\n",
            "           B-YEAR       0.96      0.95      0.96      2578\n",
            "          I-ACTOR       0.96      0.94      0.95      3146\n",
            "      I-CHARACTER       0.70      0.49      0.57       306\n",
            "       I-DIRECTOR       0.95      0.95      0.95      1670\n",
            "          I-GENRE       0.95      0.78      0.85       720\n",
            "           I-PLOT       0.79      0.63      0.70      1527\n",
            "         I-RATING       0.98      0.84      0.91       753\n",
            "I-RATINGS_AVERAGE       0.88      0.71      0.78      1516\n",
            "         I-REVIEW       0.00      0.00      0.00       121\n",
            "           I-SONG       0.88      0.41      0.56       386\n",
            "          I-TITLE       0.93      0.90      0.91      3127\n",
            "        I-TRAILER       0.00      0.00      0.00         7\n",
            "           I-YEAR       0.97      0.96      0.97      2226\n",
            "                O       0.95      0.99      0.97     55030\n",
            "              PAD       1.00      1.00      1.00    570066\n",
            "\n",
            "        micro avg       0.99      0.99      0.99    659775\n",
            "        macro avg       0.79      0.70      0.73    659775\n",
            "     weighted avg       0.99      0.99      0.99    659775\n",
            "\n"
          ],
          "name": "stdout"
        }
      ]
    },
    {
      "metadata": {
        "id": "R7i4FuvUmCFx",
        "colab_type": "code",
        "outputId": "c46c5833-2785-4708-cae5-72022d18a4a7",
        "colab": {
          "base_uri": "https://localhost:8080/",
          "height": 306
        }
      },
      "cell_type": "code",
      "source": [
        "i = np.random.randint(0,X_tr.shape[0]) # choose a random number between 0 and len(X_te)\n",
        "p = model.predict(np.array([X_tr[i]]))\n",
        "p = np.argmax(p, axis=-1)\n",
        "true = np.argmax(y_tr[i], -1)\n",
        "\n",
        "print(\"Sample number {} of {} (Test Set)\".format(i, X_tr.shape[0]))\n",
        "# Visualization\n",
        "print(\"{:15}||{:5}||{}\".format(\"Word\", \"True\", \"Pred\"))\n",
        "print(30 * \"=\")\n",
        "for w, t, pred in zip(X_tr[i], true, p[0]):\n",
        "    if w != 0:\n",
        "        print(\"{:15}: {:5} {}\".format(words[w-2], idx2tag[t], idx2tag[pred]))"
      ],
      "execution_count": 0,
      "outputs": [
        {
          "output_type": "stream",
          "text": [
            "Sample number 1874 of 8797 (Test Set)\n",
            "Word           ||True ||Pred\n",
            "==============================\n",
            "please         : O     O\n",
            "list           : O     O\n",
            "any            : O     O\n",
            "musical        : B-GENRE B-GENRE\n",
            "movies         : O     O\n",
            "from           : O     O\n",
            "the            : O     O\n",
            "1960           : B-YEAR B-YEAR\n",
            "s              : I-YEAR I-YEAR\n",
            "with           : O     O\n",
            "ileana         : B-ACTOR B-ACTOR\n",
            "douglas        : I-ACTOR I-ACTOR\n",
            "in             : O     O\n",
            "them           : O     O\n"
          ],
          "name": "stdout"
        }
      ]
    },
    {
      "metadata": {
        "id": "Mwdp6DRznwjP",
        "colab_type": "code",
        "colab": {}
      },
      "cell_type": "code",
      "source": [
        ""
      ],
      "execution_count": 0,
      "outputs": []
    }
  ]
}