{
  "nbformat": 4,
  "nbformat_minor": 0,
  "metadata": {
    "colab": {
      "name": "Alexnet.ipynb",
      "version": "0.3.2",
      "provenance": [],
      "collapsed_sections": [],
      "include_colab_link": true
    },
    "kernelspec": {
      "name": "python3",
      "display_name": "Python 3"
    },
    "accelerator": "GPU"
  },
  "cells": [
    {
      "cell_type": "markdown",
      "metadata": {
        "id": "view-in-github",
        "colab_type": "text"
      },
      "source": [
        "<a href=\"https://colab.research.google.com/github/harjotsinghparmar/Google-Colab-Deep-Learning/blob/master/Alexnet.ipynb\" target=\"_parent\"><img src=\"https://colab.research.google.com/assets/colab-badge.svg\" alt=\"Open In Colab\"/></a>"
      ]
    },
    {
      "metadata": {
        "id": "IxevZf4UxLD8",
        "colab_type": "code",
        "outputId": "67b99c18-d220-4e75-fa43-a5bb13fcaec7",
        "colab": {
          "base_uri": "https://localhost:8080/",
          "height": 34
        }
      },
      "cell_type": "code",
      "source": [
        "import keras\n",
        "from keras.models import Sequential\n",
        "\n",
        "from keras.layers import Dense, Conv2D, Dropout, Flatten, Activation, MaxPooling2D \n",
        "\n",
        "from keras.layers.normalization import BatchNormalization\n",
        "\n",
        "from keras.utils import to_categorical\n"
      ],
      "execution_count": 1,
      "outputs": [
        {
          "output_type": "stream",
          "text": [
            "Using TensorFlow backend.\n"
          ],
          "name": "stderr"
        }
      ]
    },
    {
      "metadata": {
        "id": "BQUi4yJ8xR6H",
        "colab_type": "code",
        "colab": {}
      },
      "cell_type": "code",
      "source": [
        "import numpy as np \n",
        "\n"
      ],
      "execution_count": 0,
      "outputs": []
    },
    {
      "metadata": {
        "id": "nCvMsNDszpu-",
        "colab_type": "code",
        "colab": {
          "base_uri": "https://localhost:8080/",
          "height": 195
        },
        "outputId": "53032e31-6588-45f4-f4a2-b975bad76ffc"
      },
      "cell_type": "code",
      "source": [
        "# Import dataset: Using oxflower17 dataset for this experiment \n",
        "# Dataset is comprised of 17 categories with 80 images each, we will one hot encode the categories\n",
        "import tflearn.datasets.oxflower17 as oxflower17\n",
        "features, categories = oxflower17.load_data()\n",
        "categories = to_categorical(categories)"
      ],
      "execution_count": 3,
      "outputs": [
        {
          "output_type": "stream",
          "text": [
            "WARNING:tensorflow:From /usr/local/lib/python3.6/dist-packages/tensorflow/python/framework/op_def_library.py:263: colocate_with (from tensorflow.python.framework.ops) is deprecated and will be removed in a future version.\n",
            "Instructions for updating:\n",
            "Colocations handled automatically by placer.\n",
            "Downloading Oxford 17 category Flower Dataset, Please wait...\n"
          ],
          "name": "stdout"
        },
        {
          "output_type": "stream",
          "text": [
            "100.0% 60276736 / 60270631\n"
          ],
          "name": "stderr"
        },
        {
          "output_type": "stream",
          "text": [
            "('Succesfully downloaded', '17flowers.tgz', 60270631, 'bytes.')\n",
            "File Extracted\n",
            "Starting to parse images...\n",
            "Parsing Done!\n"
          ],
          "name": "stdout"
        }
      ]
    },
    {
      "metadata": {
        "id": "Ee-WWoji1af6",
        "colab_type": "code",
        "colab": {
          "base_uri": "https://localhost:8080/",
          "height": 34
        },
        "outputId": "e0ccc501-a8ee-44af-b4dd-d718f002ea76"
      },
      "cell_type": "code",
      "source": [
        "#Check datashape and sizes \n",
        "print(categories.shape)"
      ],
      "execution_count": 4,
      "outputs": [
        {
          "output_type": "stream",
          "text": [
            "(1360, 17)\n"
          ],
          "name": "stdout"
        }
      ]
    },
    {
      "metadata": {
        "id": "b-JMq_A0x2Ce",
        "colab_type": "code",
        "colab": {
          "base_uri": "https://localhost:8080/",
          "height": 680
        },
        "outputId": "af7da587-505f-4564-b0eb-30a96462bd08"
      },
      "cell_type": "code",
      "source": [
        "#Instantiate an empty model\n",
        "model = Sequential()\n",
        "# 1st Convolutional Layer\n",
        "model.add(Conv2D(filters=96, input_shape=(224,224,3), kernel_size=(11,11), strides=(4,4), padding=\"valid\",activation='relu'))\n",
        "# Max Pooling\n",
        "model.add(MaxPooling2D(pool_size=(2,2), strides=(2,2), padding=\"valid\"))\n",
        "\n",
        "# 2nd Convolutional Layer\n",
        "model.add(Conv2D(filters=256, kernel_size=(11,11), strides=(1,1), padding=\"valid\",activation='relu'))\n",
        "\n",
        "# Max Pooling\n",
        "model.add(MaxPooling2D(pool_size=(2,2), strides=(2,2), padding=\"valid\"))\n",
        "\n",
        "# 3rd Convolutional Layer\n",
        "model.add(Conv2D(filters=384, kernel_size=(3,3), strides=(1,1), padding=\"valid\",activation ='relu'))\n",
        "\n",
        "# 4th Convolutional Layer\n",
        "model.add(Conv2D(filters=384, kernel_size=(3,3), strides=(1,1), padding=\"valid\",activation ='relu'))\n",
        "\n",
        "# 5th Convolutional Layer\n",
        "model.add(Conv2D(filters=256, kernel_size=(3,3), strides=(1,1), padding=\"valid\",activation = 'relu'))\n",
        "\n",
        "# Max Pooling\n",
        "model.add(MaxPooling2D(pool_size=(2,2), strides=(2,2), padding=\"valid\"))\n",
        "\n",
        "# Passing it to a Fully Connected layer\n",
        "model.add(Flatten())\n",
        "# 1st Fully Connected Layer\n",
        "model.add(Dense(4096, input_shape=(224*224*3,),activation ='relu'))\n",
        "# Add Dropout to prevent overfitting\n",
        "model.add(Dropout(0.4))\n",
        "\n",
        "# 2nd Fully Connected Layer\n",
        "model.add(Dense(4096,activation = 'relu'))\n",
        "# Add Dropout\n",
        "model.add(Dropout(0.4))\n",
        "\n",
        "# 3rd Fully Connected Layer\n",
        "model.add(Dense(1000,activation = 'relu'))\n",
        "# Add Dropout\n",
        "model.add(Dropout(0.4))\n",
        "\n",
        "# Output Layer\n",
        "model.add(Dense(17,activation=\"softmax\"))\n",
        "\n",
        "model.summary()\n",
        "\n"
      ],
      "execution_count": 12,
      "outputs": [
        {
          "output_type": "stream",
          "text": [
            "_________________________________________________________________\n",
            "Layer (type)                 Output Shape              Param #   \n",
            "=================================================================\n",
            "conv2d_7 (Conv2D)            (None, 54, 54, 96)        34944     \n",
            "_________________________________________________________________\n",
            "max_pooling2d_4 (MaxPooling2 (None, 27, 27, 96)        0         \n",
            "_________________________________________________________________\n",
            "conv2d_8 (Conv2D)            (None, 17, 17, 256)       2973952   \n",
            "_________________________________________________________________\n",
            "max_pooling2d_5 (MaxPooling2 (None, 8, 8, 256)         0         \n",
            "_________________________________________________________________\n",
            "conv2d_9 (Conv2D)            (None, 6, 6, 384)         885120    \n",
            "_________________________________________________________________\n",
            "conv2d_10 (Conv2D)           (None, 4, 4, 384)         1327488   \n",
            "_________________________________________________________________\n",
            "conv2d_11 (Conv2D)           (None, 2, 2, 256)         884992    \n",
            "_________________________________________________________________\n",
            "max_pooling2d_6 (MaxPooling2 (None, 1, 1, 256)         0         \n",
            "_________________________________________________________________\n",
            "flatten_2 (Flatten)          (None, 256)               0         \n",
            "_________________________________________________________________\n",
            "dense_5 (Dense)              (None, 4096)              1052672   \n",
            "_________________________________________________________________\n",
            "dropout_4 (Dropout)          (None, 4096)              0         \n",
            "_________________________________________________________________\n",
            "dense_6 (Dense)              (None, 4096)              16781312  \n",
            "_________________________________________________________________\n",
            "dropout_5 (Dropout)          (None, 4096)              0         \n",
            "_________________________________________________________________\n",
            "dense_7 (Dense)              (None, 1000)              4097000   \n",
            "_________________________________________________________________\n",
            "dropout_6 (Dropout)          (None, 1000)              0         \n",
            "_________________________________________________________________\n",
            "dense_8 (Dense)              (None, 17)                17017     \n",
            "=================================================================\n",
            "Total params: 28,054,497\n",
            "Trainable params: 28,054,497\n",
            "Non-trainable params: 0\n",
            "_________________________________________________________________\n"
          ],
          "name": "stdout"
        }
      ]
    },
    {
      "metadata": {
        "id": "efDOG8jwzAJy",
        "colab_type": "code",
        "colab": {}
      },
      "cell_type": "code",
      "source": [
        "# We will compile the model using Adam optimizer and categorical crossentropy as the loss function\n",
        "model.compile(optimizer = 'adam', loss='categorical_crossentropy',metrics=['accuracy'])"
      ],
      "execution_count": 0,
      "outputs": []
    },
    {
      "metadata": {
        "id": "ympa4OkPzo0v",
        "colab_type": "code",
        "colab": {
          "base_uri": "https://localhost:8080/",
          "height": 1377
        },
        "outputId": "3b4065bc-8cc9-4e6f-80d2-282f3c898d89"
      },
      "cell_type": "code",
      "source": [
        "# Running the model training for 100 epochs, with validation split of 30%, after a while decided to train without validation set, let's just overfit the data\n",
        "model.fit(x = features, y = categories, epochs = 100, verbose =1)"
      ],
      "execution_count": 0,
      "outputs": [
        {
          "output_type": "stream",
          "text": [
            "Epoch 1/100\n",
            "1360/1360 [==============================] - 5s 4ms/step - loss: 2.5770 - acc: 0.1066\n",
            "Epoch 2/100\n",
            "1360/1360 [==============================] - 5s 3ms/step - loss: 2.4000 - acc: 0.1169\n",
            "Epoch 3/100\n",
            "1360/1360 [==============================] - 5s 3ms/step - loss: 2.2982 - acc: 0.1529\n",
            "Epoch 4/100\n",
            "1360/1360 [==============================] - 5s 3ms/step - loss: 2.2790 - acc: 0.1640\n",
            "Epoch 5/100\n",
            "1360/1360 [==============================] - 5s 3ms/step - loss: 2.1603 - acc: 0.1860\n",
            "Epoch 6/100\n",
            "1360/1360 [==============================] - 5s 3ms/step - loss: 2.1483 - acc: 0.2147\n",
            "Epoch 7/100\n",
            "1360/1360 [==============================] - 5s 3ms/step - loss: 2.1263 - acc: 0.2279\n",
            "Epoch 8/100\n",
            "1360/1360 [==============================] - 5s 3ms/step - loss: 2.0828 - acc: 0.2235\n",
            "Epoch 9/100\n",
            "1360/1360 [==============================] - 5s 3ms/step - loss: 1.9927 - acc: 0.2382\n",
            "Epoch 10/100\n",
            "1360/1360 [==============================] - 5s 3ms/step - loss: 1.9488 - acc: 0.2728\n",
            "Epoch 11/100\n",
            "1360/1360 [==============================] - 5s 3ms/step - loss: 1.9602 - acc: 0.2632\n",
            "Epoch 12/100\n",
            "1360/1360 [==============================] - 5s 3ms/step - loss: 1.8530 - acc: 0.3007\n",
            "Epoch 13/100\n",
            "1360/1360 [==============================] - 5s 3ms/step - loss: 1.7567 - acc: 0.3434\n",
            "Epoch 14/100\n",
            "1360/1360 [==============================] - 5s 3ms/step - loss: 1.7044 - acc: 0.3522\n",
            "Epoch 15/100\n",
            "1360/1360 [==============================] - 5s 3ms/step - loss: 1.6886 - acc: 0.3559\n",
            "Epoch 16/100\n",
            "1360/1360 [==============================] - 5s 3ms/step - loss: 1.6187 - acc: 0.3963\n",
            "Epoch 17/100\n",
            "1360/1360 [==============================] - 5s 3ms/step - loss: 1.6037 - acc: 0.3978\n",
            "Epoch 18/100\n",
            "1360/1360 [==============================] - 5s 3ms/step - loss: 1.4793 - acc: 0.4471\n",
            "Epoch 19/100\n",
            "1360/1360 [==============================] - 5s 3ms/step - loss: 1.3380 - acc: 0.5154\n",
            "Epoch 20/100\n",
            "1360/1360 [==============================] - 5s 3ms/step - loss: 1.3726 - acc: 0.4875\n",
            "Epoch 21/100\n",
            "1360/1360 [==============================] - 5s 3ms/step - loss: 1.2559 - acc: 0.5397\n",
            "Epoch 22/100\n",
            "1360/1360 [==============================] - 5s 3ms/step - loss: 1.2571 - acc: 0.5588\n",
            "Epoch 23/100\n",
            "1360/1360 [==============================] - 5s 3ms/step - loss: 1.1174 - acc: 0.6147\n",
            "Epoch 24/100\n",
            "1360/1360 [==============================] - 5s 3ms/step - loss: 1.0644 - acc: 0.6132\n",
            "Epoch 25/100\n",
            "1360/1360 [==============================] - 5s 3ms/step - loss: 0.9488 - acc: 0.6574\n",
            "Epoch 26/100\n",
            "1360/1360 [==============================] - 5s 3ms/step - loss: 0.9861 - acc: 0.6566\n",
            "Epoch 27/100\n",
            "1360/1360 [==============================] - 5s 3ms/step - loss: 0.9539 - acc: 0.6728\n",
            "Epoch 28/100\n",
            "1360/1360 [==============================] - 5s 3ms/step - loss: 0.7342 - acc: 0.7441\n",
            "Epoch 29/100\n",
            "1360/1360 [==============================] - 5s 3ms/step - loss: 0.6641 - acc: 0.7721\n",
            "Epoch 30/100\n",
            "1360/1360 [==============================] - 5s 3ms/step - loss: 0.6070 - acc: 0.7985\n",
            "Epoch 31/100\n",
            "1360/1360 [==============================] - 5s 3ms/step - loss: 0.6008 - acc: 0.7956\n",
            "Epoch 32/100\n",
            "1360/1360 [==============================] - 5s 3ms/step - loss: 0.5221 - acc: 0.8235\n",
            "Epoch 33/100\n",
            "1360/1360 [==============================] - 5s 3ms/step - loss: 0.5821 - acc: 0.8103\n",
            "Epoch 34/100\n",
            "1360/1360 [==============================] - 5s 3ms/step - loss: 0.5429 - acc: 0.8184\n",
            "Epoch 35/100\n",
            "1360/1360 [==============================] - 5s 3ms/step - loss: 0.6449 - acc: 0.8051\n",
            "Epoch 36/100\n",
            "1360/1360 [==============================] - 5s 3ms/step - loss: 0.5972 - acc: 0.8162\n",
            "Epoch 37/100\n",
            "1360/1360 [==============================] - 5s 3ms/step - loss: 0.4604 - acc: 0.8588\n",
            "Epoch 38/100\n",
            "1360/1360 [==============================] - 5s 3ms/step - loss: 0.4598 - acc: 0.8478\n",
            "Epoch 39/100\n",
            "1360/1360 [==============================] - 5s 3ms/step - loss: 0.5107 - acc: 0.8441\n",
            "Epoch 40/100\n",
            "1216/1360 [=========================>....] - ETA: 0s - loss: 0.4021 - acc: 0.8890"
          ],
          "name": "stdout"
        }
      ]
    },
    {
      "metadata": {
        "id": "VNOIcmSD4vls",
        "colab_type": "code",
        "colab": {}
      },
      "cell_type": "code",
      "source": [
        ""
      ],
      "execution_count": 0,
      "outputs": []
    }
  ]
}